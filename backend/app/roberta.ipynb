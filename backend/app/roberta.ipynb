{
 "cells": [
  {
   "cell_type": "code",
   "execution_count": 12,
   "metadata": {},
   "outputs": [],
   "source": [
    "from transformers import AutoModelForQuestionAnswering, AutoTokenizer, pipeline\n",
    "model = 'deepset/roberta-base-squad2'\n"
   ]
  },
  {
   "cell_type": "code",
   "execution_count": 13,
   "metadata": {},
   "outputs": [],
   "source": [
    "# Instantiate pipeline\n",
    "answerer = pipeline(model = model, task=\"question-answering\")"
   ]
  },
  {
   "cell_type": "code",
   "execution_count": 55,
   "metadata": {},
   "outputs": [],
   "source": [
    "# Specify question and context\n",
    "question = \"What is Signing date?\"\n",
    "context = '''\n",
    "LEASE AGREEMENT BETWEEN\n",
    "EPC-CW13, LLC,\n",
    "a Texas limited liability company,\n",
    "AS LANDLORD, AND\n",
    "BRILLIO, LLC,\n",
    "a New Jersey limited liability company1,\n",
    "AS TENANT\n",
    "LEASE DATE: AUGUST 17, 2022\n",
    "PROJECT: 2999 OLYMPUS BOULEVARD\n",
    "DALLAS, TEXAS\n",
    "\n",
    "Lease Date: As listed on the cover page\n",
    "Landlord: As listed on the cover page\n",
    "Tenant: As listed on the cover page\n",
    "Tenant's Organizational\n",
    "Identification Number:\n",
    "[Brillio, LLC, 32052437921], as assigned by the Texas Secretary of State\n",
    "Premises: Suite No. 275, containing 16,142 rentable square feet, as found on the second floor of the office\n",
    "building whose street address is 2999 Olympus Boulevard, Dallas, Texas (the \"Building\"). The\n",
    "Premises are outlined on the plan attached to the Lease as Exhibit A. The land on which the\n",
    "Building is located (the \"Land\") is described on Exhibit B. The term \"Project\" shall collectively\n",
    "refer to the Building, the Land and the driveways, parking facilities, and similar improvements\n",
    "and easements associated with the foregoing or the operation thereof.\n",
    "Term: The period beginning on the Commencement Date and ending at 11:59 p.m. local time on the\n",
    "last day of the 120th full calendar month following the Abatement Period, subject to adjustment\n",
    "and earlier termination as provided in the Lease.\n",
    "Commencement Date: The earliest of (a) 150 days after the later of the Lease Date or the date on which the Space\n",
    "Plans are approved, (b) the date on which Tenant occupies any portion of the Premises and\n",
    "begins conducting business therein, (c) the date on which the Work (as defined in Exhibit D\n",
    "hereto) in the Premises is Substantially Completed (as defined in Exhibit D hereto), or (d) the\n",
    "date on which the Work in the Premises would have been Substantially Completed but for the\n",
    "occurrence of any Tenant Delay Days (as defined in Exhibit D hereto).\n",
    "Estimated Delivery Date: November 1, 2022, subject to extension as provided in Exhibit D.\n",
    "Abatement Period: The first 183 days (i.e., the equivalent of six calendar months) after (and including) the\n",
    "Commencement Date.\n",
    "Basic Rent: Basic Rent shall be the following amounts for the following periods of time:\n",
    "Lease Month\n",
    "Annual Basic Rent Rate\n",
    "Per Rentable Square Foot\n",
    "Monthly Basic Rent\n",
    "Abatement Period Abated Abated\n",
    "1 - 12 $31.25 $42,036.46\n",
    "13 - 24 $32.03 $43,085.69\n",
    "25 - 36 $32.83 $44,161.82\n",
    "37 - 48 $33.65 $45,264.86\n",
    "49 - 60 $34.49 $46,394.80\n",
    "61 - 72 $35.35 $47,551.64\n",
    "73 - 84 $36.23 $48,735.39\n",
    "85 - 96 $37.14 $49,959.49\n",
    "OFFICE LEASE AGREEMENT (BASIC LEASE INFORMATION) Page ii\n",
    "97 - 108 $38.07 $51,210.50\n",
    "109 - 120 $39.02 $52,488.40\n",
    "As used herein, the term \"Lease Month\" means each calendar month beginning on the first day\n",
    "after the end of the Abatement Period (and if the first Lease Month does not begin on the first\n",
    "day of a calendar month, the first Lease Month shall include the balance of such partial month\n",
    "and also include the entirety of the first full calendar month thereafter for purposes of\n",
    "determining the duration of the Term and the monthly Basic Rent rate applicable for such partial\n",
    "month).\n",
    "Security Deposit: $64,594.90\n",
    "Rent: Basic Rent, Tenant's Proportionate Share of Electrical Costs, Tenant's share of Additional Rent,\n",
    "and all other sums that Tenant may owe to Landlord or otherwise be required to pay under the\n",
    "Lease.\n",
    "Permitted Use: General office use.\n",
    "Tenant's Proportionate\n",
    "Share:\n",
    "5.2287%, which is the percentage obtained by dividing (a) the number of rentable square feet\n",
    "in the Premises as stated above by (b) the 308,721 rentable square feet in the Building. Landlord\n",
    "and Tenant stipulate that the number of rentable square feet in the Premises and in the Building\n",
    "set forth above is conclusive and shall be binding upon them.\n",
    "Tenant’s Broker: Apis Advisors\n",
    "Building Business\n",
    "Hours:\n",
    "7:00 a.m. to 6:00 p.m. on weekdays (other than Building Holidays)\n",
    "Initial Liability\n",
    "Insurance Amount:\n",
    "$3,000,000 per occurrence\n",
    "Comparable Buildings: Class A Suburban office buildings in the Las Colinas / Irving area\n",
    "Construction Allowance: $75.00 per rentable square foot in the Premises.\n",
    "Tenant's Address: Prior to Commencement Date:\n",
    "Brillio, LLC\n",
    "_ 399 Thornall Street, 1st Floor,\n",
    "Edison, New Jersey\n",
    "08837\n",
    "Attention: Legal\n",
    "Telephone: 213-4004183\n",
    "e-mail: Austin.hamilton@brillio.com\n",
    "Following Commencement Date:\n",
    "Brillio, LLC\n",
    "399 Thornall Street, 1st Floor,\n",
    "Edison, New Jersey\n",
    "08837\n",
    "Attention: Legal\n",
    "Telephone: 213-400-4183\n",
    "e-mail: Austin.hamilton@brillio.com\n",
    "Landlord's Address: For all Notices:\n",
    "Billingsley Property Services II, Inc.\n",
    "1722 Routh Street, Suite 770\n",
    "Dallas, Texas 75201\n",
    "Attention: Lease Administration, Office\n",
    "Telephone: 214-270-1000\n",
    "e-mail: officeleaseadmin@billingsleyco.com\n",
    "With a copy to:\n",
    "Billingsley Property Services II, Inc.\n",
    "1722 Routh Street, Suite 770\n",
    "Dallas, Texas 75201\n",
    "Attention: Legal Department\n",
    "Telephone: 214-270-1000\n",
    "e-mail: officeleaseadmin@billingsleyco.com\n",
    "'''"
   ]
  },
  {
   "cell_type": "code",
   "execution_count": 56,
   "metadata": {},
   "outputs": [],
   "source": [
    "# Generate predictions\n",
    "preds = answerer(\n",
    "    question = question,\n",
    "    context = context,\n",
    ")\n"
   ]
  },
  {
   "cell_type": "code",
   "execution_count": 57,
   "metadata": {},
   "outputs": [
    {
     "name": "stdout",
     "output_type": "stream",
     "text": [
      "score: 0.1188, start: 127664, end: 127699, answer: 30 days' written notice to Landlord\n"
     ]
    }
   ],
   "source": [
    "# Return results\n",
    "print(\n",
    "    f\"score: {round(preds['score'], 4)}, start: {preds['start']}, end: {preds['end']}, answer: {preds['answer']}\"\n",
    ")"
   ]
  }
 ],
 "metadata": {
  "kernelspec": {
   "display_name": "py38",
   "language": "python",
   "name": "python3"
  },
  "language_info": {
   "codemirror_mode": {
    "name": "ipython",
    "version": 3
   },
   "file_extension": ".py",
   "mimetype": "text/x-python",
   "name": "python",
   "nbconvert_exporter": "python",
   "pygments_lexer": "ipython3",
   "version": "3.8.16"
  },
  "orig_nbformat": 4
 },
 "nbformat": 4,
 "nbformat_minor": 2
}
